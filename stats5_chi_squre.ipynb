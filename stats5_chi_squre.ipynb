{
 "cells": [
  {
   "cell_type": "markdown",
   "metadata": {},
   "source": [
    "### Q1. Calculate the 95% confidence interval for a sample of data with a mean of 50 and a standard deviation of 5 using Python. Interpret the results."
   ]
  },
  {
   "cell_type": "markdown",
   "metadata": {},
   "source": [
    "To calculate the confidence interval (CI) for a sample mean, you can use the following formula:\n",
    "\n",
    "$$\n",
    "CI = \\left( \\bar{x} - Z \\frac{s}{\\sqrt{n}}, \\bar{x} + Z \\frac{s}{\\sqrt{n}} \\right)\n",
    "$$\n",
    "\n",
    "where:\n",
    "- $\\bar{x}$ is the sample mean\n",
    "- $Z$ is the Z-value corresponding to the desired confidence level (for 95% confidence, $Z \\approx 1.96$)\n",
    "- $s$ is the sample standard deviation\n",
    "- $n$ is the sample size\n",
    "\n",
    "This formula provides the lower and upper bounds of the confidence interval, within which we can be confident that the true population mean lies with the specified confidence level.\n"
   ]
  },
  {
   "cell_type": "code",
   "execution_count": 17,
   "metadata": {},
   "outputs": [
    {
     "data": {
      "text/plain": [
       "(48.210805856282846, 51.789194143717154)"
      ]
     },
     "execution_count": 17,
     "metadata": {},
     "output_type": "execute_result"
    }
   ],
   "source": [
    "import scipy.stats as stats\n",
    "\n",
    "# Given data\n",
    "mean = 50\n",
    "std_dev = 5\n",
    "confidence_level = 0.95\n",
    "\n",
    "# Z-value for 95% confidence\n",
    "z_value = stats.norm.ppf(1 - (1 - confidence_level) / 2)\n",
    "\n",
    "# Assuming a large sample size\n",
    "sample_size = 30  # Example sample size\n",
    "\n",
    "# Calculate the margin of error\n",
    "margin_of_error = z_value * (std_dev / (sample_size ** 0.5))\n",
    "\n",
    "# Calculate the confidence interval\n",
    "confidence_interval = (mean - margin_of_error, mean + margin_of_error)\n",
    "confidence_interval\n"
   ]
  },
  {
   "cell_type": "markdown",
   "metadata": {},
   "source": [
    "The 95% confidence interval for the sample mean is approximately (48.21, 51.79).\n",
    "\n",
    "**Interpretation:**\n",
    "This means that we can be 95% confident that the true population mean lies within the interval 48.21 to 51.79. The margin of error is approximately 1.79 on either side of the sample mean of 50.\n",
    "``` &#8203;:citation[oaicite:0]{index=0}&#8203;\n"
   ]
  },
  {
   "cell_type": "markdown",
   "metadata": {},
   "source": [
    "### Q2. Conduct a chi-square goodness of fit test to determine if the distribution of colors of M&Ms in a bag matches the expected distribution of 20% blue, 20% orange, 20% green, 10% yellow, 10% red, and 20% brown. Use Python to perform the test with a significance level of 0.05."
   ]
  },
  {
   "cell_type": "markdown",
   "metadata": {},
   "source": [
    "### Chi-Square Goodness of Fit Test for M&Ms Colors\n",
    "\n",
    "To determine if the distribution of colors of M&Ms in a bag matches the expected distribution of 20% blue, 20% orange, 20% green, 10% yellow, 10% red, and 20% brown, we perform a chi-square goodness of fit test with a significance level of 0.05.\n",
    "\n",
    "### Steps\n",
    "\n",
    "1. **Define the observed frequencies**:  the example data .\n",
    "2. **Define the expected frequencies** based on the expected percentages.\n",
    "3. **Perform the chi-square goodness of fit test** using Python.\n",
    "4. **Compare the p-value** with the significance level (0.05) to determine if we reject the null hypothesis.\n",
    "\n",
    "### Python Code\n",
    "\n",
    "\n"
   ]
  },
  {
   "cell_type": "code",
   "execution_count": 32,
   "metadata": {},
   "outputs": [
    {
     "name": "stdout",
     "output_type": "stream",
     "text": [
      "Fail to reject the null hypothesis \n",
      " means accept the null hypothesis\n"
     ]
    }
   ],
   "source": [
    "\n",
    "import scipy.stats as stats\n",
    "\n",
    "# Observed frequencies (example data)\n",
    "observed_frequencies = [30, 25, 20, 15, 10, 25]\n",
    "\n",
    "# Total number of M&Ms observed\n",
    "total_observed = sum(observed_frequencies)\n",
    "\n",
    "# Expected percentages\n",
    "expected_percentages = [0.20, 0.20, 0.20, 0.10, 0.10, 0.20]\n",
    "\n",
    "# Expected frequencies\n",
    "expected_frequencies = [p * total_observed for p in expected_percentages]\n",
    "\n",
    "chi_stats,p_value=st.chisquare(observed_frequencies, expected_frequencies)\n",
    "\n",
    "ddf= len(observed_frequencies) - 1\n",
    "confidence_level = 0.95\n",
    "\n",
    "# Critical value for 95% confidence\n",
    "c_value = st.chi2.ppf(confidence_level,ddf)\n",
    "\n",
    "if c_value>chi_stats:\n",
    "    print('Fail to reject the null hypothesis \\n means accept the null hypothesis')\n",
    "else:\n",
    "    print('Reject the null hypothesis')"
   ]
  },
  {
   "cell_type": "markdown",
   "metadata": {},
   "source": [
    "The 95% confidence interval for the sample mean is approximately (48.21, 51.79).\n",
    "\n",
    "**Interpretation:**\n",
    "This means that we can be 95% confident that the true population mean lies within the interval 48.21 to 51.79. The margin of error is approximately 1.79 on either side of the sample mean of 50.\n",
    "\n"
   ]
  },
  {
   "cell_type": "markdown",
   "metadata": {},
   "source": [
    "### Q3. Use Python to calculate the chi-square statistic and p-value for a contingency table with the following data:"
   ]
  },
  {
   "attachments": {
    "image.png": {
     "image/png": "[encoded data removed]"
    }
   },
   "cell_type": "markdown",
   "metadata": {},
   "source": [
    "![image.png](attachment:image.png)"
   ]
  },
  {
   "cell_type": "markdown",
   "metadata": {},
   "source": [
    "### Calculate the Chi-Square Statistic and p-value:\n",
    "\n",
    "- We'll use the chi2_contingency function from the scipy.stats library to calculate the chi-square statistic, p-value, degrees of freedom, and expected frequencies.\n",
    "\n",
    "### Interpret the Results:\n",
    "\n",
    "- The p-value will tell us whether to reject the null hypothesis. The null hypothesis is that there is no association between the groups and the outcomes.\n",
    "- A common significance level is 0.05. If the p-value is less than 0.05, we reject the null hypothesis and conclude that there is a significant association."
   ]
  },
  {
   "cell_type": "code",
   "execution_count": 2,
   "metadata": {},
   "outputs": [],
   "source": [
    "import scipy.stats as st\n",
    "import numpy as np"
   ]
  },
  {
   "cell_type": "code",
   "execution_count": 4,
   "metadata": {},
   "outputs": [],
   "source": [
    "data = np.array([[20, 15],\n",
    "                 [10, 25],\n",
    "                 [15, 20]])\n",
    "stats,p_val,dof,ex_fz=st.chi2_contingency(data)"
   ]
  },
  {
   "cell_type": "code",
   "execution_count": 5,
   "metadata": {},
   "outputs": [
    {
     "data": {
      "text/plain": [
       "(5.833333333333334,\n",
       " 0.05411376622282158,\n",
       " 2,\n",
       " array([[15., 20.],\n",
       "        [15., 20.],\n",
       "        [15., 20.]]))"
      ]
     },
     "execution_count": 5,
     "metadata": {},
     "output_type": "execute_result"
    }
   ],
   "source": [
    " stats,p_val,dof,ex_fz"
   ]
  },
  {
   "cell_type": "markdown",
   "metadata": {},
   "source": [
    "### Interpretation\n",
    "- Chi-Square Statistic ($\\chi^2$): This value measures how much the observed counts deviate from the expected counts.\n",
    "- p-value: This tells us the probability of observing the data, or something more extreme, if the null hypothesis is true.\n",
    "- Degrees of Freedom (dof): This is calculated as $(\\text{number of rows} - 1) \\times (\\text{number of columns} - 1)$.\n",
    "- Expected Frequencies: These are the frequencies we would expect if the null hypothesis were true.\n",
    "\n",
    "### If the p-value is less than 0.05, we reject the null hypothesis and conclude that there is a significant association between the groups and the outcomes."
   ]
  },
  {
   "cell_type": "code",
   "execution_count": 7,
   "metadata": {},
   "outputs": [
    {
     "name": "stdout",
     "output_type": "stream",
     "text": [
      "We failed to reject null hypothesis. Means thier is  significant association between the groups and the outcomes. \n"
     ]
    }
   ],
   "source": [
    "sig_level=0.05\n",
    "if p_val< sig_level:\n",
    "    print(\"We Reject null hypothesis , means thier is no significant association between the groups and the outcomes.\")\n",
    "else:\n",
    "    print(\"We failed to reject null hypothesis. Means thier is  significant association between the groups and the outcomes. \")"
   ]
  },
  {
   "cell_type": "markdown",
   "metadata": {},
   "source": [
    "### Q4. A study of the prevalence of smoking in a population of 500 individuals found that 60 individuals smoke. Use Python to calculate the 95% confidence interval for the true proportion of individuals in th population who smoke."
   ]
  },
  {
   "cell_type": "markdown",
   "metadata": {},
   "source": [
    "### 95% Confidence Interval for the True Proportion of Smokers\n",
    "\n",
    "A study of the prevalence of smoking in a population of 500 individuals found that 60 individuals smoked. We will use Python to calculate the 95% confidence interval for the true proportion of individuals in the population who smoke.\n",
    "\n",
    "### Step-by-Step Calculation\n",
    "\n",
    "1. **Calculate the sample proportion $\\hat{p}$**:\n",
    "   \\[ $\\hat{p} = \\frac{x}{n}$ \\]\n",
    "   where \\(x\\) is the number of individuals who smoke (60) and \\(n\\) is the total number of individuals (500).\n",
    "\n",
    "2. **Calculate the standard error (SE)**:\n",
    "   \\[$ \\text{SE} = \\sqrt{\\frac{\\hat{p}(1 - \\hat{p})}{n}}$ \\]\n",
    "\n",
    "3. **Calculate the margin of error (ME)**:\n",
    "   \\[$ \\text{ME} = z \\cdot \\text{SE} $\\]\n",
    "   where \\(z\\) is the z-score corresponding to the 95% confidence level (1.96).\n",
    "\n",
    "4. **Calculate the confidence interval**:\n",
    "   \\[$ \\text{CI} = \\hat{p} \\pm \\text{ME} $\\]\n",
    "\n",
    "### Python Code"
   ]
  },
  {
   "cell_type": "code",
   "execution_count": 5,
   "metadata": {},
   "outputs": [
    {
     "data": {
      "text/plain": [
       "(0.09151586546865079, 0.1484841345313492)"
      ]
     },
     "execution_count": 5,
     "metadata": {},
     "output_type": "execute_result"
    }
   ],
   "source": [
    "import math\n",
    "\n",
    "# Given data\n",
    "x = 60\n",
    "n = 500\n",
    "z = 1.96  # z-score for 95% confidence\n",
    "\n",
    "# Calculate sample proportion\n",
    "p_hat = x / n\n",
    "\n",
    "# Calculate standard error\n",
    "SE = math.sqrt((p_hat * (1 - p_hat)) / n)\n",
    "\n",
    "# Calculate margin of error\n",
    "ME = z * SE\n",
    "\n",
    "# Calculate confidence interval\n",
    "CI_lower = p_hat - ME\n",
    "CI_upper = p_hat + ME\n",
    "\n",
    "CI_lower, CI_upper"
   ]
  },
  {
   "cell_type": "markdown",
   "metadata": {},
   "source": [
    "### Q5. Calculate the 90% confidence interval for a sample of data with a mean of 75 and a standard deviation of 12 using Python. Interpret the results."
   ]
  },
  {
   "cell_type": "code",
   "execution_count": 15,
   "metadata": {},
   "outputs": [
    {
     "data": {
      "text/plain": [
       "(71.39630625889797, 78.60369374110203)"
      ]
     },
     "execution_count": 15,
     "metadata": {},
     "output_type": "execute_result"
    }
   ],
   "source": [
    "sig_level = 0.10\n",
    "S_mean=75\n",
    "std=12\n",
    "\n",
    "n=30\n",
    "\n",
    "z_val=st.norm.ppf(1-sig_level/2)\n",
    "std_error= std/(n**0.5)\n",
    "\n",
    "margin_error= z_val*std_error\n",
    "\n",
    "CI_lower= S_mean-margin_error\n",
    "CI_upper= S_mean+margin_error\n",
    "\n",
    "CI_lower,CI_upper\n"
   ]
  },
  {
   "cell_type": "markdown",
   "metadata": {},
   "source": [
    "### Q6. Use Python to plot the chi-square distribution with 10 degrees of freedom. Label the axes and shade the area corresponding to a chi-square statistic of 15."
   ]
  },
  {
   "cell_type": "markdown",
   "metadata": {},
   "source": [
    "### Plotting the Chi-Square Distribution with 10 Degrees of Freedom\n",
    "\n",
    "We will use Python to plot the chi-square distribution with 10 degrees of freedom and shade the area corresponding to a chi-square statistic of 15.\n",
    "\n",
    "### Python Code\n",
    "\n"
   ]
  },
  {
   "cell_type": "code",
   "execution_count": 1,
   "metadata": {},
   "outputs": [
    {
     "data": {
      "image/png": "[encoded data removed]",
      "text/plain": [
       "<Figure size 1000x600 with 1 Axes>"
      ]
     },
     "metadata": {},
     "output_type": "display_data"
    }
   ],
   "source": [
    "\n",
    "import numpy as np\n",
    "import scipy.stats as stats\n",
    "import matplotlib.pyplot as plt\n",
    "\n",
    "# Degrees of freedom\n",
    "df = 10\n",
    "\n",
    "# Create a range of x values\n",
    "x = np.linspace(0, 30, 1000)\n",
    "\n",
    "# Calculate the chi-square distribution values\n",
    "chi2_values = stats.chi2.pdf(x, df)\n",
    "\n",
    "# Plot the chi-square distribution\n",
    "plt.figure(figsize=(10, 6))\n",
    "plt.plot(x, chi2_values, label='Chi-Square Distribution (df=10)')\n",
    "plt.fill_between(x, chi2_values, where=(x <= 15), color='skyblue', alpha=0.5, label='Area for chi-square statistic = 15')\n",
    "\n",
    "# Add labels and title\n",
    "plt.title('Chi-Square Distribution with 10 Degrees of Freedom')\n",
    "plt.xlabel('Chi-Square Value')\n",
    "plt.ylabel('Probability Density')\n",
    "plt.legend()\n",
    "\n",
    "# Show plot\n",
    "plt.show()\n"
   ]
  },
  {
   "cell_type": "markdown",
   "metadata": {},
   "source": [
    "### Q7. A random sample of 1000 people was asked if they preferred Coke or Pepsi. Of the sample, 520 preferred Coke. Calculate a 99% confidence interval for the true proportion of people in the population who prefer Coke."
   ]
  },
  {
   "cell_type": "markdown",
   "metadata": {},
   "source": [
    "### 99% Confidence Interval for the True Proportion of People Who Prefer Coke\n",
    "\n",
    "A random sample of 1000 people was asked if they preferred Coke or Pepsi. Of the sample, 520 preferred Coke. We will use Python to calculate the 99% confidence interval for the true proportion of people in the population who prefer Coke.\n",
    "\n",
    "### Step-by-Step Calculation\n",
    "\n",
    "1. **Calculate the sample proportion $\\hat{p}$**:\n",
    "   \\[$ \\hat{p} = \\frac{x}{n}$ \\]\n",
    "   where \\(x\\) is the number of people who prefer Coke (520) and \\(n\\) is the total number of people surveyed (1000).\n",
    "\n",
    "2. **Calculate the standard error (SE)**:\n",
    "   \\[ $\\text{SE} = \\sqrt{\\frac{\\hat{p}(1 - \\hat{p})}{n}} $\\]\n",
    "\n",
    "3. **Calculate the margin of error (ME)**:\n",
    "   \\[$ \\text{ME} = z \\cdot \\text{SE}$ \\]\n",
    "   where \\(z\\) is the z-score corresponding to the 99% confidence level (2.576).\n",
    "\n",
    "4. **Calculate the confidence interval**:\n",
    "   \\[ $\\text{CI} = \\hat{p} \\pm \\text{ME}$ \\]\n",
    "\n",
    "\n"
   ]
  },
  {
   "cell_type": "code",
   "execution_count": 15,
   "metadata": {},
   "outputs": [
    {
     "data": {
      "text/plain": [
       "(0.47930246089012263, 0.5606975391098774)"
      ]
     },
     "execution_count": 15,
     "metadata": {},
     "output_type": "execute_result"
    }
   ],
   "source": [
    "import math\n",
    "\n",
    "# Given data\n",
    "x = 520\n",
    "n = 1000\n",
    "z = 2.576  # z-score for 99% confidence\n",
    "\n",
    "# Calculate sample proportion\n",
    "p_hat = x / n\n",
    "\n",
    "# Calculate standard error\n",
    "SE = math.sqrt((p_hat * (1 - p_hat)) / n)\n",
    "\n",
    "# Calculate margin of error\n",
    "ME = z * SE\n",
    "\n",
    "# Calculate confidence interval\n",
    "CI_lower = p_hat - ME\n",
    "CI_upper = p_hat + ME\n",
    "\n",
    "CI_lower, CI_upper"
   ]
  },
  {
   "cell_type": "markdown",
   "metadata": {},
   "source": [
    "### Q8. A researcher hypothesizes that a coin is biased towards tails. They flip the coin 100 times and observe 45 tails. Conduct a chi-square goodness of fit test to determine if the observed frequencies match the expected frequencies of a fair coin. Use a significance level of 0.05."
   ]
  },
  {
   "cell_type": "markdown",
   "metadata": {},
   "source": [
    "$\\chi^2 = \\sum  \\frac {(O - E)^2} {E} $"
   ]
  },
  {
   "cell_type": "markdown",
   "metadata": {},
   "source": [
    "# Chi-Square Goodness of Fit Test\n",
    "\n",
    "A researcher hypothesizes that a coin is biased towards tails. They flip the coin 100 times and observe 45 tails. We will conduct a chi-square goodness of fit test to determine if the observed frequencies match the expected frequencies of a fair coin at a significance level of 0.05.\n",
    "\n",
    "## Steps:\n",
    "\n",
    "1. **State the hypotheses**:\n",
    "   - Null hypothesis ($H_0$): The coin is fair, so the probability of tails is \\($p = 0.5$\\).\n",
    "   - Alternative hypothesis ($H_1$): The coin is biased towards tails, so \\($p > 0.5$\\).\n",
    "\n",
    "2. **Calculate the expected frequency**:\n",
    "   For a fair coin, the expected frequency of tails is:\n",
    "   \n",
    "   $ E = n \\cdot p = 100 \\cdot 0.5 = 50 $ \n",
    "   Thus, the expected number of tails is 50.\n",
    "\n",
    "3. **Compute the chi-square statistic**:\n",
    "   The chi-square statistic is given by:\n",
    "   \\[\n",
    "   $\\chi^2 = \\sum \\frac{(O - E)^2}{E}$\n",
    "   \\]\n",
    "   Where \\(O\\) is the observed frequency, and \\(E\\) is the expected frequency.\n",
    "\n",
    "4. **Determine the degrees of freedom**:\n",
    "   For a goodness of fit test, the degrees of freedom are:\n",
    "   \\[\n",
    "   $\\text{df} = k - 1$\n",
    "   \\]\n",
    "   Where \\(k\\) is the number of categories. Here, we have one category (tails), so:\n",
    "   \\[\n",
    "   $\\text{df} = 1$\n",
    "   \\]\n",
    "\n",
    "5. **Compare the chi-square statistic to the critical value**:\n",
    "   Using a significance level of \\( $\\alpha = 0.05 $\\), we find the critical value for \\($\\chi^2$\\) with 1 degree of freedom from the chi-square distribution table.\n",
    "\n",
    "Let's calculate these steps in code:\n",
    "\n"
   ]
  },
  {
   "cell_type": "code",
   "execution_count": 25,
   "metadata": {},
   "outputs": [
    {
     "name": "stdout",
     "output_type": "stream",
     "text": [
      "0.5 3.841458820694124 False\n",
      "Fail to reject the null hypothesis\n"
     ]
    }
   ],
   "source": [
    "import scipy.stats as st\n",
    "\n",
    "# Given data\n",
    "observed_tails = 45\n",
    "n = 100\n",
    "p_expected = 0.5\n",
    "expected_tails = n * p_expected\n",
    "\n",
    "# Chi-square statistic calculation\n",
    "chi_squared_stat = (observed_tails - expected_tails) ** 2 / expected_tails\n",
    "\n",
    "# Degrees of freedom\n",
    "df = 1\n",
    "\n",
    "# Critical value at 0.05 significance level for 1 degree of freedom\n",
    "critical_value = st.chi2.ppf(0.95, df)\n",
    "\n",
    "# Conclusion\n",
    "result = chi_squared_stat > critical_value\n",
    "print(chi_squared_stat, critical_value, result)\n",
    "\n",
    "if chi_squared_stat>critical_value:\n",
    "    print(\"Reject the null hypothesis\")\n",
    "else: \n",
    "    print(\"Fail to reject the null hypothesis\")\n"
   ]
  },
  {
   "cell_type": "markdown",
   "metadata": {},
   "source": [
    "### Q9. A study was conducted to determine if there is an association between smoking status (smoker or non-smoker) and lung cancer diagnosis (yes or no). The results are shown in the contingency table below. Conduct a chi-square test for independence to determine if there is a significant association between smoking status and lung cancer diagnosis."
   ]
  },
  {
   "attachments": {
    "image.png": {
     "image/png": "[encoded data removed]"
    }
   },
   "cell_type": "markdown",
   "metadata": {},
   "source": [
    "![image.png](attachment:image.png)"
   ]
  },
  {
   "cell_type": "markdown",
   "metadata": {},
   "source": [
    "- Step 1: State the hypotheses:\n",
    "    - $H_0$: There is no association between smoking status and lung cancer diagnosis\n",
    "    - $H_1$: There is an association between smoking status and lung cancer diagnosis\n",
    "\n",
    "- Step 2: Calculate expected frequencies\n",
    "Expected frequencies:\n",
    "[[45. 155.]\n",
    " [45. 155.]]\n",
    "\n",
    "- Step 3: Calculate the chi-square statistic\n",
    "χ² = 12.90\n",
    "\n",
    "- Step 4: Determine degrees of freedom\n",
    "df = 1\n",
    "\n",
    "- Step 5: Find the critical value\n",
    "Critical value at α = 0.05 and df = 1: 3.841\n",
    "\n",
    "- Step 6: Make a decision\n",
    "Reject the null hypothesis\n",
    "\n",
    "Conclusion: There is sufficient evidence to conclude that there is a significant association between smoking status and lung cancer diagnosis.\n",
    "p-value: 0.0003"
   ]
  },
  {
   "cell_type": "code",
   "execution_count": 26,
   "metadata": {},
   "outputs": [
    {
     "name": "stdout",
     "output_type": "stream",
     "text": [
      "Step 1: State the hypotheses\n",
      "H0: There is no association between smoking status and lung cancer diagnosis\n",
      "H1: There is an association between smoking status and lung cancer diagnosis\n",
      "\n",
      "Step 2: Calculate expected frequencies\n",
      "Expected frequencies:\n",
      "[[ 45. 155.]\n",
      " [ 45. 155.]]\n",
      "\n",
      "Step 3: Calculate the chi-square statistic\n",
      "χ² = 12.06\n",
      "\n",
      "Step 4: Determine degrees of freedom\n",
      "df = 1\n",
      "\n",
      "Step 5: Find the critical value\n",
      "Critical value at α = 0.05 and df = 1: 3.841\n",
      "\n",
      "Step 6: Make a decision\n",
      "Reject the null hypothesis\n",
      "\n",
      "Conclusion: There is sufficient evidence to conclude that there is a significant association between smoking status and lung cancer diagnosis.\n",
      "p-value: 0.0005\n"
     ]
    }
   ],
   "source": [
    "# Import necessary libraries\n",
    "import numpy as np\n",
    "from scipy.stats import chi2_contingency, chi2\n",
    "\n",
    "# Define the observed frequencies\n",
    "observed = np.array([[60, 140],\n",
    "                     [30, 170]])\n",
    "\n",
    "print(\"Step 1: State the hypotheses\")\n",
    "print(\"H0: There is no association between smoking status and lung cancer diagnosis\")\n",
    "print(\"H1: There is an association between smoking status and lung cancer diagnosis\")\n",
    "\n",
    "print(\"\\nStep 2: Calculate expected frequencies\")\n",
    "chi2_stat, p_value, dof, expected = chi2_contingency(observed)\n",
    "print(\"Expected frequencies:\")\n",
    "print(expected)\n",
    "\n",
    "print(\"\\nStep 3: Calculate the chi-square statistic\")\n",
    "print(f\"χ² = {chi2_stat:.2f}\")\n",
    "\n",
    "print(\"\\nStep 4: Determine degrees of freedom\")\n",
    "print(f\"df = {dof}\")\n",
    "\n",
    "print(\"\\nStep 5: Find the critical value\")\n",
    "alpha = 0.05\n",
    "critical_value = chi2.ppf(1 - alpha, dof)\n",
    "print(f\"Critical value at α = {alpha} and df = {dof}: {critical_value:.3f}\")\n",
    "\n",
    "print(\"\\nStep 6: Make a decision\")\n",
    "if chi2_stat > critical_value:\n",
    "    print(\"Reject the null hypothesis\")\n",
    "    conclusion = \"There is sufficient evidence to conclude that there is a significant association between smoking status and lung cancer diagnosis.\"\n",
    "else:\n",
    "    print(\"Fail to reject the null hypothesis\")\n",
    "    conclusion = \"There is not sufficient evidence to conclude that there is a significant association between smoking status and lung cancer diagnosis.\"\n",
    "\n",
    "print(f\"\\nConclusion: {conclusion}\")\n",
    "print(f\"p-value: {p_value:.4f}\")"
   ]
  },
  {
   "cell_type": "markdown",
   "metadata": {},
   "source": [
    "### Q10. A study was conducted to determine if the proportion of people who prefer milk chocolate, dark  chocolate, or white chocolate is different in the U.S. versus the U.K. A random sample of 500 people from the U.S. and a random sample of 500 people from the U.K. were surveyed. The results are shown in the contingency table below. Conduct a chi-square test for independence to determine if there is a significant association between chocolate preference and country of origin. "
   ]
  },
  {
   "attachments": {
    "image.png": {
     "image/png": "[encoded data removed]"
    }
   },
   "cell_type": "markdown",
   "metadata": {},
   "source": [
    "![image.png](attachment:image.png)"
   ]
  },
  {
   "cell_type": "markdown",
   "metadata": {},
   "source": [
    "### Chi-Square Test for Independence\n",
    "\n",
    "### Contingency Table:\n",
    "|               | Milk Chocolate | Dark Chocolate | White Chocolate | Row Total |\n",
    "|---------------|----------------|----------------|-----------------|-----------|\n",
    "| U.S. (n=500)  | 200            | 150            | 150             | 500       |\n",
    "| U.K. (n=500)  | 225            | 175            | 100             | 500       |\n",
    "| Column Total  | 425            | 325            | 250             | 1000      |\n",
    "\n",
    "### Step-by-Step Calculation:\n",
    "\n",
    "1. **State the hypotheses**:\n",
    "   - Null hypothesis (\\(H_0\\)): There is no association between chocolate preference and country of origin.\n",
    "   - Alternative hypothesis (\\(H_1\\)): There is an association between chocolate preference and country of origin.\n",
    "\n",
    "2. **Calculate the expected frequencies**:\n",
    "\n",
    "\n"
   ]
  },
  {
   "cell_type": "code",
   "execution_count": 27,
   "metadata": {},
   "outputs": [
    {
     "data": {
      "text/plain": [
       "array([[212.5, 162.5, 125. ],\n",
       "       [212.5, 162.5, 125. ]])"
      ]
     },
     "execution_count": 27,
     "metadata": {},
     "output_type": "execute_result"
    }
   ],
   "source": [
    "import numpy as np\n",
    "import scipy.stats as st\n",
    "\n",
    "# Observed frequencies\n",
    "observed = np.array([[200, 150, 150],\n",
    "                     [225, 175, 100]])\n",
    "\n",
    "# Calculate the expected frequencies\n",
    "total = observed.sum()\n",
    "row_totals = observed.sum(axis=1).reshape(-1, 1)\n",
    "col_totals = observed.sum(axis=0).reshape(1, -1)\n",
    "expected = row_totals * col_totals / total\n",
    "\n",
    "expected"
   ]
  },
  {
   "cell_type": "code",
   "execution_count": 28,
   "metadata": {},
   "outputs": [
    {
     "data": {
      "text/plain": [
       "(13.393665158371041, 9.21034037197618, 0.00123481689977456)"
      ]
     },
     "execution_count": 28,
     "metadata": {},
     "output_type": "execute_result"
    }
   ],
   "source": [
    "# Chi-square statistic calculation\n",
    "chi_squared_stat = ((observed - expected) ** 2 / expected).sum()\n",
    "\n",
    "# Degrees of freedom\n",
    "df = (observed.shape[0] - 1) * (observed.shape[1] - 1)\n",
    "\n",
    "# Critical value at 0.01 significance level\n",
    "critical_value = st.chi2.ppf(0.99, df)\n",
    "\n",
    "# p-value\n",
    "p_value = 1 - st.chi2.cdf(chi_squared_stat, df)\n",
    "\n",
    "chi_squared_stat, critical_value, p_value\n"
   ]
  },
  {
   "cell_type": "code",
   "execution_count": 29,
   "metadata": {},
   "outputs": [
    {
     "data": {
      "text/plain": [
       "(13.393665158371041,\n",
       " 9.21034037197618,\n",
       " 0.00123481689977456,\n",
       " 'Reject the null hypothesis.')"
      ]
     },
     "execution_count": 29,
     "metadata": {},
     "output_type": "execute_result"
    }
   ],
   "source": [
    "if chi_squared_stat > critical_value:\n",
    "    conclusion = \"Reject the null hypothesis.\"\n",
    "else:\n",
    "    conclusion = \"Do not reject the null hypothesis.\"\n",
    "\n",
    "chi_squared_stat, critical_value, p_value, conclusion\n"
   ]
  },
  {
   "cell_type": "markdown",
   "metadata": {},
   "source": [
    "### Q11. A random sample of 30 people was selected from a population with an unknown mean and standard deviation. The sample mean was found to be 72 and the sample standard deviation was found to be 10. Conduct a hypothesis test to determine if the population mean is significantly different from 70. Use a significance level of 0.05."
   ]
  },
  {
   "cell_type": "markdown",
   "metadata": {},
   "source": [
    "### T-Test for Population Mean\n",
    "\n",
    "A random sample of 30 people was selected from a population with an unknown mean and standard deviation. The sample mean was found to be 72 and the sample standard deviation was found to be 10. We will conduct a hypothesis test to determine if the population mean is significantly different from 70 at a significance level of 0.05.\n",
    "\n",
    "### Step-by-Step Calculation:\n",
    "\n",
    "1. **State the hypotheses**:\n",
    "   - Null hypothesis ($H_0$): The population mean \\($\\mu = 70$\\).\n",
    "   - Alternative hypothesis ($H_1$): The population mean \\($\\mu \\neq 70$\\).\n",
    "\n",
    "2. **Calculate the test statistic**:\n",
    "\n"
   ]
  },
  {
   "cell_type": "code",
   "execution_count": 30,
   "metadata": {},
   "outputs": [
    {
     "data": {
      "text/plain": [
       "(1.0954451150103321, 29)"
      ]
     },
     "execution_count": 30,
     "metadata": {},
     "output_type": "execute_result"
    }
   ],
   "source": [
    "\n",
    "import scipy.stats as st\n",
    "\n",
    "# Given data\n",
    "sample_mean = 72\n",
    "population_mean = 70\n",
    "sample_std = 10\n",
    "n = 30\n",
    "\n",
    "# Calculate the test statistic\n",
    "t_stat = (sample_mean - population_mean) / (sample_std / n**0.5)\n",
    "\n",
    "# Degrees of freedom\n",
    "df = n - 1\n",
    "\n",
    "t_stat, df\n"
   ]
  },
  {
   "cell_type": "code",
   "execution_count": 33,
   "metadata": {},
   "outputs": [
    {
     "data": {
      "text/plain": [
       "(1.0954451150103321,\n",
       " 9.21034037197618,\n",
       " 0.00123481689977456,\n",
       " 'Failed to reject the null hypothesis.')"
      ]
     },
     "execution_count": 33,
     "metadata": {},
     "output_type": "execute_result"
    }
   ],
   "source": [
    "if abs(t_stat) > critical_value:\n",
    "    conclusion = \"Reject the null hypothesis.\"\n",
    "else:\n",
    "    conclusion = \"Failed to reject the null hypothesis.\"\n",
    "\n",
    "t_stat, critical_value, p_value, conclusion\n"
   ]
  },
  {
   "cell_type": "code",
   "execution_count": null,
   "metadata": {},
   "outputs": [],
   "source": []
  }
 ],
 "metadata": {
  "kernelspec": {
   "display_name": "Python 3 (ipykernel)",
   "language": "python",
   "name": "python3"
  },
  "language_info": {
   "codemirror_mode": {
    "name": "ipython",
    "version": 3
   },
   "file_extension": ".py",
   "mimetype": "text/x-python",
   "name": "python",
   "nbconvert_exporter": "python",
   "pygments_lexer": "ipython3",
   "version": "3.11.4"
  }
 },
 "nbformat": 4,
 "nbformat_minor": 4
}
